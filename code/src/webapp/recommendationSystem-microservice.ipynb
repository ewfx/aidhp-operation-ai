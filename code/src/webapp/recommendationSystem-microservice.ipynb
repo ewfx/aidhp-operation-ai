{
 "cells": [
  {
   "cell_type": "code",
   "execution_count": 2,
   "id": "96612ce3-0164-4a3d-a8cd-881d3afb27de",
   "metadata": {},
   "outputs": [
    {
     "name": "stdout",
     "output_type": "stream",
     "text": [
      "Requirement already satisfied: Flask in /Users/vijayalakshmig/anaconda3/lib/python3.11/site-packages (1.1.4)\n",
      "Requirement already satisfied: Werkzeug<2.0,>=0.15 in /Users/vijayalakshmig/anaconda3/lib/python3.11/site-packages (from Flask) (1.0.1)\n",
      "Requirement already satisfied: Jinja2<3.0,>=2.10.1 in /Users/vijayalakshmig/anaconda3/lib/python3.11/site-packages (from Flask) (2.11.3)\n",
      "Requirement already satisfied: itsdangerous<2.0,>=0.24 in /Users/vijayalakshmig/anaconda3/lib/python3.11/site-packages (from Flask) (1.1.0)\n",
      "Requirement already satisfied: click<8.0,>=5.1 in /Users/vijayalakshmig/anaconda3/lib/python3.11/site-packages (from Flask) (7.1.2)\n",
      "Requirement already satisfied: MarkupSafe>=0.23 in /Users/vijayalakshmig/anaconda3/lib/python3.11/site-packages (from Jinja2<3.0,>=2.10.1->Flask) (2.0.1)\n"
     ]
    }
   ],
   "source": [
    "# !pip install Flask\n",
    "#!pip install ipynb"
   ]
  },
  {
   "cell_type": "code",
   "execution_count": 1,
   "id": "ca0f5a96-9466-4496-8e3c-872a519f7d0b",
   "metadata": {},
   "outputs": [
    {
     "name": "stderr",
     "output_type": "stream",
     "text": [
      "/Users/vijayalakshmig/anaconda3/lib/python3.11/site-packages/torch/utils/_pytree.py:185: FutureWarning: optree is installed but the version is too old to support PyTorch Dynamo in C++ pytree. C++ pytree support is disabled. Please consider upgrading optree using `python3 -m pip install --upgrade 'optree>=0.13.0'`.\n",
      "  warnings.warn(\n",
      "/Users/vijayalakshmig/anaconda3/lib/python3.11/site-packages/pandas/core/arrays/masked.py:60: UserWarning: Pandas requires version '1.3.6' or newer of 'bottleneck' (version '1.3.5' currently installed).\n",
      "  from pandas.core import (\n",
      "Some parameters are on the meta device because they were offloaded to the disk.\n"
     ]
    },
    {
     "name": "stdout",
     "output_type": "stream",
     "text": [
      " * Serving Flask app \"__main__\" (lazy loading)\n",
      " * Environment: production\n",
      "\u001b[31m   WARNING: This is a development server. Do not use it in a production deployment.\u001b[0m\n",
      "\u001b[2m   Use a production WSGI server instead.\u001b[0m\n",
      " * Debug mode: off\n"
     ]
    },
    {
     "name": "stderr",
     "output_type": "stream",
     "text": [
      " * Running on http://127.0.0.1:5000/ (Press CTRL+C to quit)\n",
      "127.0.0.1 - - [26/Mar/2025 11:41:38] \"\u001b[37mGET / HTTP/1.1\u001b[0m\" 200 -\n",
      "127.0.0.1 - - [26/Mar/2025 11:41:45] \"\u001b[37mGET /chatbot?userMessage=hi HTTP/1.1\u001b[0m\" 200 -\n"
     ]
    },
    {
     "name": "stdout",
     "output_type": "stream",
     "text": [
      "hi\n"
     ]
    },
    {
     "name": "stderr",
     "output_type": "stream",
     "text": [
      "127.0.0.1 - - [26/Mar/2025 11:41:50] \"\u001b[37mGET /chatbot?userMessage=100009 HTTP/1.1\u001b[0m\" 200 -\n"
     ]
    },
    {
     "name": "stdout",
     "output_type": "stream",
     "text": [
      "100009\n",
      "nextquestion:Do you have investment plans? (yes/no)\n"
     ]
    },
    {
     "name": "stderr",
     "output_type": "stream",
     "text": [
      "127.0.0.1 - - [26/Mar/2025 11:41:53] \"\u001b[37mGET /chatbot?userMessage=yes HTTP/1.1\u001b[0m\" 200 -\n"
     ]
    },
    {
     "name": "stdout",
     "output_type": "stream",
     "text": [
      "yes\n",
      "nextquestion:How much you want to invest?\n"
     ]
    },
    {
     "name": "stderr",
     "output_type": "stream",
     "text": [
      "127.0.0.1 - - [26/Mar/2025 11:41:58] \"\u001b[37mGET /chatbot?userMessage=20000 HTTP/1.1\u001b[0m\" 200 -\n"
     ]
    },
    {
     "name": "stdout",
     "output_type": "stream",
     "text": [
      "20000\n",
      "nextquestion:Tenure?\n"
     ]
    },
    {
     "name": "stderr",
     "output_type": "stream",
     "text": [
      "127.0.0.1 - - [26/Mar/2025 11:42:00] \"\u001b[37mGET /chatbot?userMessage=3 HTTP/1.1\u001b[0m\" 200 -\n"
     ]
    },
    {
     "name": "stdout",
     "output_type": "stream",
     "text": [
      "3\n",
      "nextquestion:Expected Returns (in percentage)?\n"
     ]
    },
    {
     "name": "stderr",
     "output_type": "stream",
     "text": [
      "[2025-03-26 11:42:04,768] ERROR in app: Exception on /chatbot [GET]\n",
      "Traceback (most recent call last):\n",
      "  File \"/Users/vijayalakshmig/anaconda3/lib/python3.11/site-packages/flask/app.py\", line 2447, in wsgi_app\n",
      "    response = self.full_dispatch_request()\n",
      "               ^^^^^^^^^^^^^^^^^^^^^^^^^^^^\n",
      "  File \"/Users/vijayalakshmig/anaconda3/lib/python3.11/site-packages/flask/app.py\", line 1952, in full_dispatch_request\n",
      "    rv = self.handle_user_exception(e)\n",
      "         ^^^^^^^^^^^^^^^^^^^^^^^^^^^^^\n",
      "  File \"/Users/vijayalakshmig/anaconda3/lib/python3.11/site-packages/flask/app.py\", line 1821, in handle_user_exception\n",
      "    reraise(exc_type, exc_value, tb)\n",
      "  File \"/Users/vijayalakshmig/anaconda3/lib/python3.11/site-packages/flask/_compat.py\", line 39, in reraise\n",
      "    raise value\n",
      "  File \"/Users/vijayalakshmig/anaconda3/lib/python3.11/site-packages/flask/app.py\", line 1950, in full_dispatch_request\n",
      "    rv = self.dispatch_request()\n",
      "         ^^^^^^^^^^^^^^^^^^^^^^^\n",
      "  File \"/Users/vijayalakshmig/anaconda3/lib/python3.11/site-packages/flask/app.py\", line 1936, in dispatch_request\n",
      "    return self.view_functions[rule.endpoint](**req.view_args)\n",
      "           ^^^^^^^^^^^^^^^^^^^^^^^^^^^^^^^^^^^^^^^^^^^^^^^^^^^\n",
      "  File \"/var/folders/vq/fvbr_j_j32xg0rs7bgr7tymc0000gn/T/ipykernel_30122/1575777063.py\", line 34, in chatBotInteration\n",
      "    return get_response(request.args.get(\"userMessage\"))\n",
      "           ^^^^^^^^^^^^^^^^^^^^^^^^^^^^^^^^^^^^^^^^^^^^^\n",
      "  File \"/Users/vijayalakshmig/Public/AI_ML/Operation_AI/chaitanya-aidhp-operation-ai/aidhp-operation-ai/code/src/webapp/recommondationSystemChatbot.py\", line 75, in get_response\n",
      "    return getRecommendedStocksAndAssets()\n",
      "           ^^^^^^^^^^^^^^^^^^^^^^^^^^^^^^^\n",
      "  File \"/Users/vijayalakshmig/Public/AI_ML/Operation_AI/chaitanya-aidhp-operation-ai/aidhp-operation-ai/code/src/webapp/recommondationSystemChatbot.py\", line 42, in getRecommendedStocksAndAssets\n",
      "    return recommend_stock(customerDataRecord)\n",
      "           ^^^^^^^^^^^^^^^^^^^^^^^^^^^^^^^^^^^\n",
      "  File \"/Users/vijayalakshmig/Public/AI_ML/Operation_AI/chaitanya-aidhp-operation-ai/aidhp-operation-ai/code/src/webapp/stockRecommender.py\", line 15, in recommend_stock\n",
      "    - Net Worth: {data['net_worth']} USD\n",
      "                  ~~~~^^^^^^^^^^^^^\n",
      "KeyError: 'net_worth'\n",
      "127.0.0.1 - - [26/Mar/2025 11:42:04] \"\u001b[35m\u001b[1mGET /chatbot?userMessage=23 HTTP/1.1\u001b[0m\" 500 -\n"
     ]
    },
    {
     "name": "stdout",
     "output_type": "stream",
     "text": [
      "23\n"
     ]
    }
   ],
   "source": [
    "from flask import Flask, request, render_template, redirect\n",
    "from recommondationSystemChatbot import *\n",
    "\n",
    "\n",
    "app = Flask(__name__)\n",
    "@app.route('/')\n",
    "def hello_world():\n",
    "    return render_template('recommendation-chatbot.html')\n",
    "\n",
    "# @app.route('/predict')\n",
    "# def fetchRecommendations():\n",
    "    \n",
    "#     print(request.args.get(\"customerID\"))\n",
    "#     print(request.args.get(\"invAmt\"))\n",
    "#     print(request.args.get(\"tenure\"))\n",
    "#     print(request.args.get(\"returnsPersent\"))\n",
    "#     customerID = request.args.get(\"customerID\")\n",
    "#     invAmt = request.args.get(\"invAmt\")\n",
    "#     tenure = request.args.get(\"tenure\")\n",
    "#     returnsPersent = request.args.get(\"returnsPersent\")\n",
    "    \n",
    "#     riskScore = getCustomerPortFolioScore(customerID)\n",
    "#     print(riskScore)\n",
    "\n",
    "#     recommendations = getRecommendedStocksAndAssets(riskScore,customerID,invAmt, tenure, returnsPersent)\n",
    "    \n",
    "#     return recommendations\n",
    "\n",
    "\n",
    "\n",
    "@app.route('/chatbot')\n",
    "def chatBotInteration():\n",
    "    print(request.args.get(\"userMessage\"))\n",
    "    return get_response(request.args.get(\"userMessage\"))\n",
    "\n",
    "if __name__ == '__main__':\n",
    "     app.run()"
   ]
  },
  {
   "cell_type": "code",
   "execution_count": null,
   "id": "82f3c458-244e-47e1-81c6-8122765d7c54",
   "metadata": {},
   "outputs": [],
   "source": []
  },
  {
   "cell_type": "code",
   "execution_count": null,
   "id": "3cd82019-7a3d-4b3e-886c-792acefbbd10",
   "metadata": {},
   "outputs": [],
   "source": []
  }
 ],
 "metadata": {
  "kernelspec": {
   "display_name": "myenvironment",
   "language": "python",
   "name": "python3"
  },
  "language_info": {
   "codemirror_mode": {
    "name": "ipython",
    "version": 3
   },
   "file_extension": ".py",
   "mimetype": "text/x-python",
   "name": "python",
   "nbconvert_exporter": "python",
   "pygments_lexer": "ipython3",
   "version": "3.9.6"
  }
 },
 "nbformat": 4,
 "nbformat_minor": 5
}
